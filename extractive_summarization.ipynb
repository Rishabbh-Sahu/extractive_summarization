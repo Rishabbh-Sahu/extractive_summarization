{
 "cells": [
  {
   "cell_type": "markdown",
   "metadata": {},
   "source": [
    "\n",
    "# Extractive Summarization"
   ]
  },
  {
   "cell_type": "markdown",
   "metadata": {},
   "source": [
    "## Steps to follow"
   ]
  },
  {
   "cell_type": "markdown",
   "metadata": {},
   "source": [
    "-Installing libraries and their dependencies \n",
    "\n",
    "-Import libraries \n",
    "\n",
    "-Load the dataset with news articles\n",
    "\n",
    "-Text cleaning\n",
    "\n",
    "-Sentence Tokenization\n",
    "\n",
    "-Word\n",
    "\n",
    "-Word-Frequence Table\n",
    "\n",
    "-Exatractive summarization"
   ]
  },
  {
   "cell_type": "code",
   "execution_count": null,
   "metadata": {},
   "outputs": [],
   "source": [
    "# Installing libs by removing the comments and run the cell\n",
    "# !pip install pandas\n",
    "# !pip install -U spacy\n",
    "# !python -m spacy download en_core_web_sm \n",
    "# !pip install rouge-score"
   ]
  },
  {
   "cell_type": "code",
   "execution_count": 1,
   "metadata": {},
   "outputs": [],
   "source": [
    "# Import all the necessary libraries\n",
    "import pandas as pd \n",
    "import spacy \n",
    "from spacy.lang.en.stop_words import STOP_WORDS\n",
    "from string import punctuation"
   ]
  },
  {
   "cell_type": "code",
   "execution_count": 2,
   "metadata": {},
   "outputs": [
    {
     "data": {
      "text/plain": [
       "(4514, 7)"
      ]
     },
     "execution_count": 2,
     "metadata": {},
     "output_type": "execute_result"
    }
   ],
   "source": [
    "# Load data from the specified path\n",
    "data_path = './data/news_summary.csv'\n",
    "df = pd.read_csv(data_path, encoding='latin-1')\n",
    "df.shape"
   ]
  },
  {
   "cell_type": "code",
   "execution_count": 3,
   "metadata": {},
   "outputs": [
    {
     "data": {
      "text/html": [
       "<div>\n",
       "<style scoped>\n",
       "    .dataframe tbody tr th:only-of-type {\n",
       "        vertical-align: middle;\n",
       "    }\n",
       "\n",
       "    .dataframe tbody tr th {\n",
       "        vertical-align: top;\n",
       "    }\n",
       "\n",
       "    .dataframe thead th {\n",
       "        text-align: right;\n",
       "    }\n",
       "</style>\n",
       "<table border=\"1\" class=\"dataframe\">\n",
       "  <thead>\n",
       "    <tr style=\"text-align: right;\">\n",
       "      <th></th>\n",
       "      <th>author</th>\n",
       "      <th>date</th>\n",
       "      <th>headlines</th>\n",
       "      <th>read_more</th>\n",
       "      <th>text</th>\n",
       "      <th>ctext</th>\n",
       "      <th>link = https://www.kaggle.com/sunnysai12345/news-summary</th>\n",
       "    </tr>\n",
       "  </thead>\n",
       "  <tbody>\n",
       "    <tr>\n",
       "      <th>0</th>\n",
       "      <td>Chhavi Tyagi</td>\n",
       "      <td>03 Aug 2017,Thursday</td>\n",
       "      <td>Daman &amp; Diu revokes mandatory Rakshabandhan in...</td>\n",
       "      <td>http://www.hindustantimes.com/india-news/raksh...</td>\n",
       "      <td>The Administration of Union Territory Daman an...</td>\n",
       "      <td>The Daman and Diu administration on Wednesday ...</td>\n",
       "      <td>NaN</td>\n",
       "    </tr>\n",
       "    <tr>\n",
       "      <th>1</th>\n",
       "      <td>Daisy Mowke</td>\n",
       "      <td>03 Aug 2017,Thursday</td>\n",
       "      <td>Malaika slams user who trolled her for 'divorc...</td>\n",
       "      <td>http://www.hindustantimes.com/bollywood/malaik...</td>\n",
       "      <td>Malaika Arora slammed an Instagram user who tr...</td>\n",
       "      <td>From her special numbers to TV?appearances, Bo...</td>\n",
       "      <td>NaN</td>\n",
       "    </tr>\n",
       "    <tr>\n",
       "      <th>2</th>\n",
       "      <td>Arshiya Chopra</td>\n",
       "      <td>03 Aug 2017,Thursday</td>\n",
       "      <td>'Virgin' now corrected to 'Unmarried' in IGIMS...</td>\n",
       "      <td>http://www.hindustantimes.com/patna/bihar-igim...</td>\n",
       "      <td>The Indira Gandhi Institute of Medical Science...</td>\n",
       "      <td>The Indira Gandhi Institute of Medical Science...</td>\n",
       "      <td>NaN</td>\n",
       "    </tr>\n",
       "    <tr>\n",
       "      <th>3</th>\n",
       "      <td>Sumedha Sehra</td>\n",
       "      <td>03 Aug 2017,Thursday</td>\n",
       "      <td>Aaj aapne pakad liya: LeT man Dujana before be...</td>\n",
       "      <td>http://indiatoday.intoday.in/story/abu-dujana-...</td>\n",
       "      <td>Lashkar-e-Taiba's Kashmir commander Abu Dujana...</td>\n",
       "      <td>Lashkar-e-Taiba's Kashmir commander Abu Dujana...</td>\n",
       "      <td>NaN</td>\n",
       "    </tr>\n",
       "    <tr>\n",
       "      <th>4</th>\n",
       "      <td>Aarushi Maheshwari</td>\n",
       "      <td>03 Aug 2017,Thursday</td>\n",
       "      <td>Hotel staff to get training to spot signs of s...</td>\n",
       "      <td>http://indiatoday.intoday.in/story/sex-traffic...</td>\n",
       "      <td>Hotels in Maharashtra will train their staff t...</td>\n",
       "      <td>Hotels in Mumbai and other Indian cities are t...</td>\n",
       "      <td>NaN</td>\n",
       "    </tr>\n",
       "  </tbody>\n",
       "</table>\n",
       "</div>"
      ],
      "text/plain": [
       "               author                  date  \\\n",
       "0        Chhavi Tyagi  03 Aug 2017,Thursday   \n",
       "1         Daisy Mowke  03 Aug 2017,Thursday   \n",
       "2      Arshiya Chopra  03 Aug 2017,Thursday   \n",
       "3       Sumedha Sehra  03 Aug 2017,Thursday   \n",
       "4  Aarushi Maheshwari  03 Aug 2017,Thursday   \n",
       "\n",
       "                                           headlines  \\\n",
       "0  Daman & Diu revokes mandatory Rakshabandhan in...   \n",
       "1  Malaika slams user who trolled her for 'divorc...   \n",
       "2  'Virgin' now corrected to 'Unmarried' in IGIMS...   \n",
       "3  Aaj aapne pakad liya: LeT man Dujana before be...   \n",
       "4  Hotel staff to get training to spot signs of s...   \n",
       "\n",
       "                                           read_more  \\\n",
       "0  http://www.hindustantimes.com/india-news/raksh...   \n",
       "1  http://www.hindustantimes.com/bollywood/malaik...   \n",
       "2  http://www.hindustantimes.com/patna/bihar-igim...   \n",
       "3  http://indiatoday.intoday.in/story/abu-dujana-...   \n",
       "4  http://indiatoday.intoday.in/story/sex-traffic...   \n",
       "\n",
       "                                                text  \\\n",
       "0  The Administration of Union Territory Daman an...   \n",
       "1  Malaika Arora slammed an Instagram user who tr...   \n",
       "2  The Indira Gandhi Institute of Medical Science...   \n",
       "3  Lashkar-e-Taiba's Kashmir commander Abu Dujana...   \n",
       "4  Hotels in Maharashtra will train their staff t...   \n",
       "\n",
       "                                               ctext  \\\n",
       "0  The Daman and Diu administration on Wednesday ...   \n",
       "1  From her special numbers to TV?appearances, Bo...   \n",
       "2  The Indira Gandhi Institute of Medical Science...   \n",
       "3  Lashkar-e-Taiba's Kashmir commander Abu Dujana...   \n",
       "4  Hotels in Mumbai and other Indian cities are t...   \n",
       "\n",
       "   link = https://www.kaggle.com/sunnysai12345/news-summary  \n",
       "0                                                NaN         \n",
       "1                                                NaN         \n",
       "2                                                NaN         \n",
       "3                                                NaN         \n",
       "4                                                NaN         "
      ]
     },
     "execution_count": 3,
     "metadata": {},
     "output_type": "execute_result"
    }
   ],
   "source": [
    "# Printing few rows from the datasets\n",
    "df.head()"
   ]
  },
  {
   "cell_type": "code",
   "execution_count": 53,
   "metadata": {},
   "outputs": [
    {
     "name": "stdout",
     "output_type": "stream",
     "text": [
      "First article from the dataset:\n",
      " The Daman and Diu administration on Wednesday withdrew a circular that asked women staff to tie rakhis on male colleagues after the order triggered a backlash from employees and was ripped apart on social media.The union territory?s administration was forced to retreat within 24 hours of issuing the circular that made it compulsory for its staff to celebrate Rakshabandhan at workplace.?It has been decided to celebrate the festival of Rakshabandhan on August 7. In this connection, all offices/ departments shall remain open and celebrate the festival collectively at a suitable time wherein all the lady staff shall tie rakhis to their colleagues,? the order, issued on August 1 by Gurpreet Singh, deputy secretary (personnel), had said.To ensure that no one skipped office, an attendance report was to be sent to the government the next evening.The two notifications ? one mandating the celebration of Rakshabandhan (left) and the other withdrawing the mandate (right) ? were issued by the Daman and Diu administration a day apart. The circular was withdrawn through a one-line order issued late in the evening by the UT?s department of personnel and administrative reforms.?The circular is ridiculous. There are sensitivities involved. How can the government dictate who I should tie rakhi to? We should maintain the professionalism of a workplace? an official told Hindustan Times earlier in the day. She refused to be identified.The notice was issued on Daman and Diu administrator and former Gujarat home minister Praful Kodabhai Patel?s direction, sources said.Rakshabandhan, a celebration of the bond between brothers and sisters, is one of several Hindu festivities and rituals that are no longer confined of private, family affairs but have become tools to push politic al ideologies.In 2014, the year BJP stormed to power at the Centre, Rashtriya Swayamsevak Sangh (RSS) chief Mohan Bhagwat said the festival had ?national significance? and should be celebrated widely ?to protect Hindu culture and live by the values enshrined in it?. The RSS is the ideological parent of the ruling BJP.Last year, women ministers in the Modi government went to the border areas to celebrate the festival with soldiers. A year before, all cabinet ministers were asked to go to their constituencies for the festival.\n"
     ]
    }
   ],
   "source": [
    "# lets see the first article\n",
    "# Line below enables to see the entire text instead of truncated text\n",
    "pd.set_option('display.max_colwidth',-1)\n",
    "article_number = 0\n",
    "print(\"First article from the dataset:\\n\",df.loc[article_number,'ctext'])"
   ]
  },
  {
   "cell_type": "code",
   "execution_count": 54,
   "metadata": {},
   "outputs": [
    {
     "data": {
      "text/plain": [
       "True"
      ]
     },
     "execution_count": 54,
     "metadata": {},
     "output_type": "execute_result"
    }
   ],
   "source": [
    "# checking if the specified article is None or have valid text\n",
    "not pd.isna(df.loc[article_number,'ctext'])"
   ]
  },
  {
   "cell_type": "code",
   "execution_count": 55,
   "metadata": {},
   "outputs": [
    {
     "name": "stdout",
     "output_type": "stream",
     "text": [
      "Few stop words:\n",
      " ['about', 'any', 'ourselves', 'elsewhere', 'most', 'over', 'then', 'beforehand', 'all', 'name']\n"
     ]
    }
   ],
   "source": [
    "# Get all the stop words from spacy\n",
    "stop_words = list(STOP_WORDS)\n",
    "print('Few stop words:\\n', stop_words[:10])"
   ]
  },
  {
   "cell_type": "markdown",
   "metadata": {},
   "source": [
    "##### Lets get started with SpaCy"
   ]
  },
  {
   "cell_type": "code",
   "execution_count": 56,
   "metadata": {},
   "outputs": [],
   "source": [
    "# Load the Spacy model using en_core_web_sm\n",
    "nlp = spacy.load('en_core_web_sm')"
   ]
  },
  {
   "cell_type": "code",
   "execution_count": 57,
   "metadata": {},
   "outputs": [],
   "source": [
    "# Load the article in the spacy compatible format\n",
    "doc = nlp(df.loc[article_number,'ctext'])"
   ]
  },
  {
   "cell_type": "code",
   "execution_count": 58,
   "metadata": {},
   "outputs": [
    {
     "name": "stdout",
     "output_type": "stream",
     "text": [
      "Tokens after processing the article using spacy-\n",
      " ['The', 'Daman', 'and', 'Diu', 'administration', 'on', 'Wednesday', 'withdrew', 'a', 'circular', 'that', 'asked', 'women', 'staff', 'to', 'tie', 'rakhis', 'on', 'male', 'colleagues', 'after', 'the', 'order', 'triggered', 'a', 'backlash', 'from', 'employees', 'and', 'was', 'ripped', 'apart', 'on', 'social', 'media', '.', 'The', 'union', 'territory?s', 'administration', 'was', 'forced', 'to', 'retreat', 'within', '24', 'hours', 'of', 'issuing', 'the', 'circular', 'that', 'made', 'it', 'compulsory', 'for', 'its', 'staff', 'to', 'celebrate', 'Rakshabandhan', 'at', 'workplace.?It', 'has', 'been', 'decided', 'to', 'celebrate', 'the', 'festival', 'of', 'Rakshabandhan', 'on', 'August', '7', '.', 'In', 'this', 'connection', ',', 'all', 'offices/', 'departments', 'shall', 'remain', 'open', 'and', 'celebrate', 'the', 'festival', 'collectively', 'at', 'a', 'suitable', 'time', 'wherein', 'all', 'the', 'lady', 'staff', 'shall', 'tie', 'rakhis', 'to', 'their', 'colleagues', ',', '?', 'the', 'order', ',', 'issued', 'on', 'August', '1', 'by', 'Gurpreet', 'Singh', ',', 'deputy', 'secretary', '(', 'personnel', ')', ',', 'had', 'said', '.', 'To', 'ensure', 'that', 'no', 'one', 'skipped', 'office', ',', 'an', 'attendance', 'report', 'was', 'to', 'be', 'sent', 'to', 'the', 'government', 'the', 'next', 'evening', '.', 'The', 'two', 'notifications', '?', 'one', 'mandating', 'the', 'celebration', 'of', 'Rakshabandhan', '(', 'left', ')', 'and', 'the', 'other', 'withdrawing', 'the', 'mandate', '(', 'right', ')', '?', 'were', 'issued', 'by', 'the', 'Daman', 'and', 'Diu', 'administration', 'a', 'day', 'apart', '.', 'The', 'circular', 'was', 'withdrawn', 'through', 'a', 'one', '-', 'line', 'order', 'issued', 'late', 'in', 'the', 'evening', 'by', 'the', 'UT?s', 'department', 'of', 'personnel', 'and', 'administrative', 'reforms.?The', 'circular', 'is', 'ridiculous', '.', 'There', 'are', 'sensitivities', 'involved', '.', 'How', 'can', 'the', 'government', 'dictate', 'who', 'I', 'should', 'tie', 'rakhi', 'to', '?', 'We', 'should', 'maintain', 'the', 'professionalism', 'of', 'a', 'workplace', '?', 'an', 'official', 'told', 'Hindustan', 'Times', 'earlier', 'in', 'the', 'day', '.', 'She', 'refused', 'to', 'be', 'identified', '.', 'The', 'notice', 'was', 'issued', 'on', 'Daman', 'and', 'Diu', 'administrator', 'and', 'former', 'Gujarat', 'home', 'minister', 'Praful', 'Kodabhai', 'Patel?s', 'direction', ',', 'sources', 'said', '.', 'Rakshabandhan', ',', 'a', 'celebration', 'of', 'the', 'bond', 'between', 'brothers', 'and', 'sisters', ',', 'is', 'one', 'of', 'several', 'Hindu', 'festivities', 'and', 'rituals', 'that', 'are', 'no', 'longer', 'confined', 'of', 'private', ',', 'family', 'affairs', 'but', 'have', 'become', 'tools', 'to', 'push', 'politic', 'al', 'ideologies', '.', 'In', '2014', ',', 'the', 'year', 'BJP', 'stormed', 'to', 'power', 'at', 'the', 'Centre', ',', 'Rashtriya', 'Swayamsevak', 'Sangh', '(', 'RSS', ')', 'chief', 'Mohan', 'Bhagwat', 'said', 'the', 'festival', 'had', '?', 'national', 'significance', '?', 'and', 'should', 'be', 'celebrated', 'widely', '?', 'to', 'protect', 'Hindu', 'culture', 'and', 'live', 'by', 'the', 'values', 'enshrined', 'in', 'it', '?', '.', 'The', 'RSS', 'is', 'the', 'ideological', 'parent', 'of', 'the', 'ruling', 'BJP.Last', 'year', ',', 'women', 'ministers', 'in', 'the', 'Modi', 'government', 'went', 'to', 'the', 'border', 'areas', 'to', 'celebrate', 'the', 'festival', 'with', 'soldiers', '.', 'A', 'year', 'before', ',', 'all', 'cabinet', 'ministers', 'were', 'asked', 'to', 'go', 'to', 'their', 'constituencies', 'for', 'the', 'festival', '.']\n"
     ]
    }
   ],
   "source": [
    "# Print all the tokens of this saample text from the dataset\n",
    "tokens = [token.text for token in doc]\n",
    "print(\"Tokens after processing the article using spacy-\\n\",tokens)"
   ]
  },
  {
   "cell_type": "markdown",
   "metadata": {},
   "source": [
    "Note - Above we can obeserve that there are a lot of undesired text is available in the form of punctuations, special symbols etc. "
   ]
  },
  {
   "cell_type": "code",
   "execution_count": 59,
   "metadata": {},
   "outputs": [
    {
     "name": "stdout",
     "output_type": "stream",
     "text": [
      "Punctuations: !\"#$%&'()*+,-./:;<=>?@[\\]^_`{|}~\n",
      "\n",
      "\n",
      "\n",
      "\n"
     ]
    }
   ],
   "source": [
    "# Creating full list of punctuations and speical symbols to be removed \n",
    "punctuation = punctuation + '\\n'\n",
    "print(\"Punctuations:\",punctuation)"
   ]
  },
  {
   "cell_type": "code",
   "execution_count": 60,
   "metadata": {},
   "outputs": [
    {
     "name": "stdout",
     "output_type": "stream",
     "text": [
      "Word Frequencies in the article: \n",
      " {'daman': 3, 'diu': 3, 'administration': 3, 'wednesday': 1, 'withdrew': 1, 'circular': 4, 'asked': 2, 'women': 2, 'staff': 3, 'tie': 3, 'rakhis': 2, 'male': 1, 'colleagues': 2, 'order': 3, 'triggered': 1, 'backlash': 1, 'employees': 1, 'ripped': 1, 'apart': 2, 'social': 1, 'media': 1, 'union': 1, 'territory?s': 1, 'forced': 1, 'retreat': 1, '24': 1, 'hours': 1, 'issuing': 1, 'compulsory': 1, 'celebrate': 4, 'rakshabandhan': 4, 'workplace.?it': 1, 'decided': 1, 'festival': 5, 'august': 2, '7': 1, 'connection': 1, 'offices/': 1, 'departments': 1, 'shall': 2, 'remain': 1, 'open': 1, 'collectively': 1, 'suitable': 1, 'time': 1, 'lady': 1, 'issued': 4, '1': 1, 'gurpreet': 1, 'singh': 1, 'deputy': 1, 'secretary': 1, 'personnel': 2, 'said': 3, 'ensure': 1, 'skipped': 1, 'office': 1, 'attendance': 1, 'report': 1, 'sent': 1, 'government': 3, 'evening': 2, 'notifications': 1, 'mandating': 1, 'celebration': 2, 'left': 1, 'withdrawing': 1, 'mandate': 1, 'right': 1, 'day': 2, 'withdrawn': 1, 'line': 1, 'late': 1, 'ut?s': 1, 'department': 1, 'administrative': 1, 'reforms.?the': 1, 'ridiculous': 1, 'sensitivities': 1, 'involved': 1, 'dictate': 1, 'rakhi': 1, 'maintain': 1, 'professionalism': 1, 'workplace': 1, 'official': 1, 'told': 1, 'hindustan': 1, 'times': 1, 'earlier': 1, 'refused': 1, 'identified': 1, 'notice': 1, 'administrator': 1, 'gujarat': 1, 'home': 1, 'minister': 1, 'praful': 1, 'kodabhai': 1, 'patel?s': 1, 'direction': 1, 'sources': 1, 'bond': 1, 'brothers': 1, 'sisters': 1, 'hindu': 2, 'festivities': 1, 'rituals': 1, 'longer': 1, 'confined': 1, 'private': 1, 'family': 1, 'affairs': 1, 'tools': 1, 'push': 1, 'politic': 1, 'al': 1, 'ideologies': 1, '2014': 1, 'year': 3, 'bjp': 1, 'stormed': 1, 'power': 1, 'centre': 1, 'rashtriya': 1, 'swayamsevak': 1, 'sangh': 1, 'rss': 2, 'chief': 1, 'mohan': 1, 'bhagwat': 1, 'national': 1, 'significance': 1, 'celebrated': 1, 'widely': 1, 'protect': 1, 'culture': 1, 'live': 1, 'values': 1, 'enshrined': 1, 'ideological': 1, 'parent': 1, 'ruling': 1, 'bjp.last': 1, 'ministers': 2, 'modi': 1, 'went': 1, 'border': 1, 'areas': 1, 'soldiers': 1, 'cabinet': 1, 'constituencies': 1}\n"
     ]
    }
   ],
   "source": [
    "# Removing stopwords, next line '\\n' etc. to clean the text and get their word frequencies\n",
    "word_freq = {}\n",
    "for word in doc: \n",
    "    if word.text.lower() not in stop_words:\n",
    "        if word.text.lower() not in punctuation:\n",
    "            if word.text.lower() not in word_freq.keys():\n",
    "#                 word_freq[word.text] = 1\n",
    "                word_freq[word.text.lower()] = 1\n",
    "            else:\n",
    "#                 word_freq[word.text] += 1\n",
    "                word_freq[word.text.lower()] += 1\n",
    "print(\"Word Frequencies in the article: \\n\",word_freq)"
   ]
  },
  {
   "cell_type": "code",
   "execution_count": 61,
   "metadata": {},
   "outputs": [
    {
     "name": "stdout",
     "output_type": "stream",
     "text": [
      "Maximum freuqency 5 \n"
     ]
    }
   ],
   "source": [
    "# To get the normalize frequency, first get the maximum frequency\n",
    "max_freq = max(word_freq.values())\n",
    "print(\"Maximum freuqency %d \"% max_freq) "
   ]
  },
  {
   "cell_type": "code",
   "execution_count": 62,
   "metadata": {},
   "outputs": [
    {
     "name": "stdout",
     "output_type": "stream",
     "text": [
      "Normalized Word Frequencies in the article:\n",
      " {'daman': 0.6, 'diu': 0.6, 'administration': 0.6, 'wednesday': 0.2, 'withdrew': 0.2, 'circular': 0.8, 'asked': 0.4, 'women': 0.4, 'staff': 0.6, 'tie': 0.6, 'rakhis': 0.4, 'male': 0.2, 'colleagues': 0.4, 'order': 0.6, 'triggered': 0.2, 'backlash': 0.2, 'employees': 0.2, 'ripped': 0.2, 'apart': 0.4, 'social': 0.2, 'media': 0.2, 'union': 0.2, 'territory?s': 0.2, 'forced': 0.2, 'retreat': 0.2, '24': 0.2, 'hours': 0.2, 'issuing': 0.2, 'compulsory': 0.2, 'celebrate': 0.8, 'rakshabandhan': 0.8, 'workplace.?it': 0.2, 'decided': 0.2, 'festival': 1.0, 'august': 0.4, '7': 0.2, 'connection': 0.2, 'offices/': 0.2, 'departments': 0.2, 'shall': 0.4, 'remain': 0.2, 'open': 0.2, 'collectively': 0.2, 'suitable': 0.2, 'time': 0.2, 'lady': 0.2, 'issued': 0.8, '1': 0.2, 'gurpreet': 0.2, 'singh': 0.2, 'deputy': 0.2, 'secretary': 0.2, 'personnel': 0.4, 'said': 0.6, 'ensure': 0.2, 'skipped': 0.2, 'office': 0.2, 'attendance': 0.2, 'report': 0.2, 'sent': 0.2, 'government': 0.6, 'evening': 0.4, 'notifications': 0.2, 'mandating': 0.2, 'celebration': 0.4, 'left': 0.2, 'withdrawing': 0.2, 'mandate': 0.2, 'right': 0.2, 'day': 0.4, 'withdrawn': 0.2, 'line': 0.2, 'late': 0.2, 'ut?s': 0.2, 'department': 0.2, 'administrative': 0.2, 'reforms.?the': 0.2, 'ridiculous': 0.2, 'sensitivities': 0.2, 'involved': 0.2, 'dictate': 0.2, 'rakhi': 0.2, 'maintain': 0.2, 'professionalism': 0.2, 'workplace': 0.2, 'official': 0.2, 'told': 0.2, 'hindustan': 0.2, 'times': 0.2, 'earlier': 0.2, 'refused': 0.2, 'identified': 0.2, 'notice': 0.2, 'administrator': 0.2, 'gujarat': 0.2, 'home': 0.2, 'minister': 0.2, 'praful': 0.2, 'kodabhai': 0.2, 'patel?s': 0.2, 'direction': 0.2, 'sources': 0.2, 'bond': 0.2, 'brothers': 0.2, 'sisters': 0.2, 'hindu': 0.4, 'festivities': 0.2, 'rituals': 0.2, 'longer': 0.2, 'confined': 0.2, 'private': 0.2, 'family': 0.2, 'affairs': 0.2, 'tools': 0.2, 'push': 0.2, 'politic': 0.2, 'al': 0.2, 'ideologies': 0.2, '2014': 0.2, 'year': 0.6, 'bjp': 0.2, 'stormed': 0.2, 'power': 0.2, 'centre': 0.2, 'rashtriya': 0.2, 'swayamsevak': 0.2, 'sangh': 0.2, 'rss': 0.4, 'chief': 0.2, 'mohan': 0.2, 'bhagwat': 0.2, 'national': 0.2, 'significance': 0.2, 'celebrated': 0.2, 'widely': 0.2, 'protect': 0.2, 'culture': 0.2, 'live': 0.2, 'values': 0.2, 'enshrined': 0.2, 'ideological': 0.2, 'parent': 0.2, 'ruling': 0.2, 'bjp.last': 0.2, 'ministers': 0.4, 'modi': 0.2, 'went': 0.2, 'border': 0.2, 'areas': 0.2, 'soldiers': 0.2, 'cabinet': 0.2, 'constituencies': 0.2}\n"
     ]
    }
   ],
   "source": [
    "# divide all frequency with maximum one \n",
    "for word in word_freq.keys():\n",
    "    word_freq[word] = word_freq[word]/max_freq\n",
    "print(\"Normalized Word Frequencies in the article:\\n\",word_freq)"
   ]
  },
  {
   "cell_type": "code",
   "execution_count": 63,
   "metadata": {},
   "outputs": [
    {
     "name": "stdout",
     "output_type": "stream",
     "text": [
      "Sentence Tokens:\n",
      " [The Daman and Diu administration on Wednesday withdrew a circular that asked women staff to tie rakhis on male colleagues after the order triggered a backlash from employees and was ripped apart on social media., The union territory?s administration was forced to retreat within 24 hours of issuing the circular that made it compulsory for its staff to celebrate Rakshabandhan at workplace.?It has been decided to celebrate the festival of Rakshabandhan on August 7., In this connection, all offices/ departments shall remain open and celebrate the festival collectively at a suitable time wherein all the lady staff shall tie rakhis to their colleagues,?, the order, issued on August 1 by Gurpreet Singh, deputy secretary (personnel), had said., To ensure that no one skipped office, an attendance report was to be sent to the government the next evening., The two notifications ?, one mandating the celebration of Rakshabandhan (left) and the other withdrawing the mandate (right) ? were issued by the Daman and Diu administration a day apart., The circular was withdrawn through a one-line order issued late in the evening by the UT?s department of personnel and administrative reforms.?The circular is ridiculous., There are sensitivities involved., How can the government dictate who I should tie rakhi to?, We should maintain the professionalism of a workplace?, an official told Hindustan Times earlier in the day., She refused to be identified., The notice was issued on Daman and Diu administrator and former Gujarat home minister Praful Kodabhai Patel?s direction, sources said., Rakshabandhan, a celebration of the bond between brothers and sisters, is one of several Hindu festivities and rituals that are no longer confined of private, family affairs but have become tools to push politic al ideologies., In 2014, the year BJP stormed to power at the Centre, Rashtriya Swayamsevak Sangh (RSS) chief Mohan Bhagwat said the festival had ?, national significance?, and should be celebrated widely ?, to protect Hindu culture and live by the values enshrined in it?., The RSS is the ideological parent of the ruling, BJP.Last year, women ministers in the Modi government went to the border areas to celebrate the festival with soldiers., A year before, all cabinet ministers were asked to go to their constituencies for the festival.]\n"
     ]
    }
   ],
   "source": [
    "# sentence tokenization to get the best summary from the article seperated by comma\n",
    "sentence = [s for s in doc.sents]\n",
    "print(\"Sentence Tokens:\\n\",sentence)"
   ]
  },
  {
   "cell_type": "code",
   "execution_count": 64,
   "metadata": {},
   "outputs": [
    {
     "name": "stdout",
     "output_type": "stream",
     "text": [
      "Sentences score based on normalized word frequencies:\n",
      " {The Daman and Diu administration on Wednesday withdrew a circular that asked women staff to tie rakhis on male colleagues after the order triggered a backlash from employees and was ripped apart on social media.: 8.2, The union territory?s administration was forced to retreat within 24 hours of issuing the circular that made it compulsory for its staff to celebrate Rakshabandhan at workplace.?It has been decided to celebrate the festival of Rakshabandhan on August 7.: 8.8, In this connection, all offices/ departments shall remain open and celebrate the festival collectively at a suitable time wherein all the lady staff shall tie rakhis to their colleagues,?: 6.400000000000001, the order, issued on August 1 by Gurpreet Singh, deputy secretary (personnel), had said.: 3.8000000000000003, To ensure that no one skipped office, an attendance report was to be sent to the government the next evening.: 2.1999999999999997, The two notifications ?: 0.2, one mandating the celebration of Rakshabandhan (left) and the other withdrawing the mandate (right) ? were issued by the Daman and Diu administration a day apart.: 5.6000000000000005, The circular was withdrawn through a one-line order issued late in the evening by the UT?s department of personnel and administrative reforms.?The circular is ridiculous.: 5.4, There are sensitivities involved.: 0.4, How can the government dictate who I should tie rakhi to?: 1.5999999999999999, We should maintain the professionalism of a workplace?: 0.6000000000000001, an official told Hindustan Times earlier in the day.: 1.4, She refused to be identified.: 0.4, The notice was issued on Daman and Diu administrator and former Gujarat home minister Praful Kodabhai Patel?s direction, sources said.: 4.600000000000001, Rakshabandhan, a celebration of the bond between brothers and sisters, is one of several Hindu festivities and rituals that are no longer confined of private, family affairs but have become tools to push politic al ideologies.: 4.600000000000002, In 2014, the year BJP stormed to power at the Centre, Rashtriya Swayamsevak Sangh (RSS) chief Mohan Bhagwat said the festival had ?: 4.800000000000001, national significance?: 0.4, and should be celebrated widely ?: 0.4, to protect Hindu culture and live by the values enshrined in it?.: 1.4, The RSS is the ideological parent of the ruling: 1.0, BJP.Last year, women ministers in the Modi government went to the border areas to celebrate the festival with soldiers.: 5.000000000000001, A year before, all cabinet ministers were asked to go to their constituencies for the festival.: 2.8}\n"
     ]
    }
   ],
   "source": [
    "# Calculating sentence score for every sentence\n",
    "sentence_score = {}\n",
    "for s in sentence:\n",
    "    for word in s:\n",
    "        if word.text.lower() in word_freq.keys():\n",
    "            if s not in sentence_score.keys():\n",
    "                sentence_score[s] = word_freq[word.text.lower()]\n",
    "            else:\n",
    "                sentence_score[s] += word_freq[word.text.lower()]\n",
    "print(\"Sentences score based on normalized word frequencies:\\n\",sentence_score)"
   ]
  },
  {
   "cell_type": "code",
   "execution_count": 65,
   "metadata": {},
   "outputs": [
    {
     "name": "stdout",
     "output_type": "stream",
     "text": [
      "Total number of sentences in the article: 22\n",
      "Sentences describing the summary would be: 2\n"
     ]
    }
   ],
   "source": [
    "# for summary lets get some percentage of the total sentences with maximum score to generate the summary\n",
    "# The above we can achieve using nlargest from the heapq package mentioned below\n",
    "from heapq import nlargest\n",
    "sent_perc = 0.1\n",
    "sent_len = int(len(sentence)*sent_perc)\n",
    "print('Total number of sentences in the article: %d\\nSentences describing the summary would be: %d'%(len(sentence),sent_len)) "
   ]
  },
  {
   "cell_type": "code",
   "execution_count": 66,
   "metadata": {},
   "outputs": [
    {
     "name": "stdout",
     "output_type": "stream",
     "text": [
      "Summary based on sentences % used to generate summary-\n",
      " [The union territory?s administration was forced to retreat within 24 hours of issuing the circular that made it compulsory for its staff to celebrate Rakshabandhan at workplace.?It has been decided to celebrate the festival of Rakshabandhan on August 7., The Daman and Diu administration on Wednesday withdrew a circular that asked women staff to tie rakhis on male colleagues after the order triggered a backlash from employees and was ripped apart on social media.]\n"
     ]
    }
   ],
   "source": [
    "summary = nlargest(sent_len, sentence_score, key=sentence_score.get)\n",
    "print('Summary based on sentences % used to generate summary-\\n',summary)"
   ]
  },
  {
   "cell_type": "code",
   "execution_count": 67,
   "metadata": {},
   "outputs": [
    {
     "name": "stdout",
     "output_type": "stream",
     "text": [
      "Final predicted summary of the article is as follows:\n",
      " The union territory?s administration was forced to retreat within 24 hours of issuing the circular that made it compulsory for its staff to celebrate Rakshabandhan at workplace.?It has been decided to celebrate the festival of Rakshabandhan on August 7. The Daman and Diu administration on Wednesday withdrew a circular that asked women staff to tie rakhis on male colleagues after the order triggered a backlash from employees and was ripped apart on social media.\n"
     ]
    }
   ],
   "source": [
    "# Combine all these sentences together to form the actual summary of the article \n",
    "predicted_summary = [word.text for word in summary]\n",
    "predicted_summary = ' '.join(predicted_summary)\n",
    "print('Final predicted summary of the article is as follows:\\n',predicted_summary)"
   ]
  },
  {
   "cell_type": "code",
   "execution_count": 68,
   "metadata": {},
   "outputs": [
    {
     "data": {
      "text/plain": [
       "'The Administration of Union Territory Daman and Diu has revoked its order that made it compulsory for women to tie rakhis to their male colleagues on the occasion of Rakshabandhan on August 7. The administration was forced to withdraw the decision within 24 hours of issuing the circular after it received flak from employees and was slammed on social media.'"
      ]
     },
     "execution_count": 68,
     "metadata": {},
     "output_type": "execute_result"
    }
   ],
   "source": [
    "# lets see the targeted summary \n",
    "pd.set_option('display.max_colwidth',-1)\n",
    "df.loc[article_number,'text']"
   ]
  },
  {
   "cell_type": "markdown",
   "metadata": {},
   "source": [
    "#### Evaluation - ROUGE score \n",
    "Ref - https://stats.stackexchange.com/questions/301626/interpreting-rouge-scores\n",
    "\n",
    "ROUGE doesn't try to assess how fluent the summary: ROUGE only tries to assess the adequacy, by simply counting how many n-grams in your generated summary matches the n-grams in your reference summary (or summaries)\n",
    "\n",
    "How to interpret the results in short and approximately:\n",
    "\n",
    "ROUGE-n recall=40% means that 40% of the n-grams in the reference summary are also present in the generated summary.\n",
    "ROUGE-n precision=40% means that 40% of the n-grams in the generated summary are also present in the reference summary."
   ]
  },
  {
   "cell_type": "markdown",
   "metadata": {},
   "source": [
    "###### Code Snippet below to evaluate the extractive summarization model "
   ]
  },
  {
   "cell_type": "code",
   "execution_count": 69,
   "metadata": {},
   "outputs": [
    {
     "data": {
      "text/plain": [
       "{'rouge1': Score(precision=0.6710526315789473, recall=0.85, fmeasure=0.7499999999999999),\n",
       " 'rougeL': Score(precision=0.35526315789473684, recall=0.45, fmeasure=0.39705882352941174)}"
      ]
     },
     "execution_count": 69,
     "metadata": {},
     "output_type": "execute_result"
    }
   ],
   "source": [
    "# Evaluate predicted summary with targeted summary using ROUGE metrics\n",
    "# Ref - https://pypi.org/project/rouge-score/\n",
    "from rouge_score import rouge_scorer\n",
    "scorer = rouge_scorer.RougeScorer(['rouge1', 'rougeL'], use_stemmer=True)\n",
    "scores = scorer.score(df.loc[article_number,'text'],predicted_summary)\n",
    "scores"
   ]
  },
  {
   "cell_type": "markdown",
   "metadata": {},
   "source": [
    "The above model has performed better w.r.t. targeted summary provided in the dataset for this article. ROUGE score values for precision and recall are good (more than 60% are consider good)"
   ]
  },
  {
   "cell_type": "markdown",
   "metadata": {},
   "source": [
    "The above results are achieved using 10% of the total sentences to describe the summary of the article. This number can be fine-tuned by running more number of examples."
   ]
  },
  {
   "cell_type": "markdown",
   "metadata": {},
   "source": [
    "#### Note: \n",
    "Extractive summary is the extract from the original article and would not completely match with targeted summary as it is generated manually.  "
   ]
  },
  {
   "cell_type": "markdown",
   "metadata": {},
   "source": [
    "#### Further improvements \n",
    "the ROUGE score used as evaluation metrics, can be achieved using Abstractive summary using T5, BART pretrained models."
   ]
  }
 ],
 "metadata": {
  "kernelspec": {
   "display_name": "Python 3.6 (tensorflow)",
   "language": "python",
   "name": "tensorflow"
  },
  "language_info": {
   "codemirror_mode": {
    "name": "ipython",
    "version": 3
   },
   "file_extension": ".py",
   "mimetype": "text/x-python",
   "name": "python",
   "nbconvert_exporter": "python",
   "pygments_lexer": "ipython3",
   "version": "3.6.10"
  }
 },
 "nbformat": 4,
 "nbformat_minor": 4
}
